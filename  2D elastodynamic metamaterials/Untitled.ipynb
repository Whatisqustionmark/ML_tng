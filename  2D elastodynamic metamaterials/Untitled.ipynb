{
 "cells": [
  {
   "cell_type": "code",
   "execution_count": 7,
   "id": "7f96160f-4b86-47c0-9aa5-567490f28753",
   "metadata": {},
   "outputs": [
    {
     "name": "stdout",
     "output_type": "stream",
     "text": [
      "Коэффициенты модели: [5.55628608e-13]\n",
      "Свободный член: 1105.6912997701909\n",
      "MSE: 216152.90514257603\n",
      "R²: 0.0043610868482463205\n"
     ]
    }
   ],
   "source": [
    "\n",
    "import pandas as pd\n",
    "from sklearn.model_selection import train_test_split\n",
    "from sklearn.linear_model import LinearRegression\n",
    "from sklearn.metrics import mean_squared_error, r2_score\n",
    "import matplotlib.pyplot as plt\n",
    "import seaborn as sns\n",
    "\n",
    "\n",
    "data = pd.read_csv('data.csv')\n",
    "\n",
    "\n",
    "X = data[['CondensedBinary2DGeometry']]\n",
    "Y = data['BandGapLocation']\n",
    "\n",
    "\n",
    "X_train, X_test, Y_train, Y_test = train_test_split(X, Y, test_size=0.2, random_state=42)\n",
    "\n",
    "\n",
    "model = LinearRegression()\n",
    "model.fit(X_train, Y_train)\n",
    "\n",
    "\n",
    "print(f'Коэффициенты модели: {model.coef_}')\n",
    "print(f'Свободный член: {model.intercept_}')\n",
    "\n",
    "# Предсказания на тестовой выборке\n",
    "Y_pred = model.predict(X_test)\n",
    "\n",
    "# Оценка качества модели с помощью метрик MSE и R²\n",
    "mse = mean_squared_error(Y_test, Y_pred)\n",
    "r2 = r2_score(Y_test, Y_pred)\n",
    "\n",
    "print(f'MSE: {mse}')\n",
    "print(f'R²: {r2}')\n",
    "\n",
    "# Визуализация данных и модели\n",
    "plt.figure(figsize=(10, 6))\n",
    "\n",
    "# График исходных данных\n",
    "plt.scatter(X, Y, color='blue', label='Исходные данные')\n",
    "\n",
    "# График предсказанных значений на тестовой выборке\n",
    "plt.scatter(X_test, Y_pred, color='red', label='Предсказанные значения')\n",
    "\n",
    "# Линия регрессии\n",
    "plt.plot(X, model.predict(X), color='green', linewidth=2, label='Линия регрессии')\n",
    "\n",
    "# Настройка графика\n",
    "plt.title('Линейная регрессия')\n",
    "plt.xlabel('CondensedBinary2DGeometry')\n",
    "plt.ylabel('BandGapLocation')\n",
    "plt.legend()\n",
    "plt.grid(True)\n",
    "\n",
    "# Показать график\n",
    "plt.show()"
   ]
  },
  {
   "cell_type": "code",
   "execution_count": null,
   "id": "4aaa4d85-20ca-4d26-b74b-57e9bc6002eb",
   "metadata": {},
   "outputs": [],
   "source": []
  },
  {
   "cell_type": "code",
   "execution_count": null,
   "id": "c13fff16-2121-449e-87f6-f633c32aedc6",
   "metadata": {},
   "outputs": [],
   "source": []
  }
 ],
 "metadata": {
  "kernelspec": {
   "display_name": "Python 3 (ipykernel)",
   "language": "python",
   "name": "python3"
  },
  "language_info": {
   "codemirror_mode": {
    "name": "ipython",
    "version": 3
   },
   "file_extension": ".py",
   "mimetype": "text/x-python",
   "name": "python",
   "nbconvert_exporter": "python",
   "pygments_lexer": "ipython3",
   "version": "3.12.0"
  }
 },
 "nbformat": 4,
 "nbformat_minor": 5
}

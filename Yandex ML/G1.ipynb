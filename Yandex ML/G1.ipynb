{
 "cells": [
  {
   "cell_type": "code",
   "execution_count": 99,
   "id": "d73094ee-7114-402a-a561-01f1208f0077",
   "metadata": {},
   "outputs": [],
   "source": [
    "#сначала использовал случайный лес,затем градиентный буст\n",
    "import pandas as pd\n",
    "from sklearn.ensemble import RandomForestRegressor\n",
    "from sklearn.ensemble import GradientBoostingRegressor\n",
    "def roman_to_int(s):\n",
    "    roman = {'I':1, 'II':2, 'III':3, 'IV':4, 'V':5}\n",
    "    return roman.get(s)\n",
    "\n",
    "\n",
    "train = pd.read_csv('train.csv')\n",
    "test = pd.read_csv('test.csv').reset_index() \n",
    "\n",
    "\n",
    "\n",
    "test = test.rename(columns={'index': 'id'})\n",
    "\n",
    "\n",
    "test['B'] = test['B'].apply(roman_to_int).astype(int)\n",
    "train['B'] = train['B'].apply(roman_to_int).astype(int)\n",
    "\n",
    "\n",
    "#model = RandomForestRegressor(n_estimators=300, random_state=76)\n",
    "model = GradientBoostingRegressor(   random_state=76)\n",
    "model.fit(train[['A','B','C','D','E','F']], train['target'])\n",
    "\n",
    "\n",
    "result = pd.DataFrame({\n",
    "    'id': test.index, \n",
    "    'target': model.predict(test[['A','B','C','D','E','F']])\n",
    "})\n",
    "\n",
    "result.to_csv('answers.csv', index=False)"
   ]
  },
  {
   "cell_type": "code",
   "execution_count": 94,
   "id": "a6a41cc8-006f-44d6-9beb-825a8a021cd5",
   "metadata": {},
   "outputs": [],
   "source": []
  }
 ],
 "metadata": {
  "kernelspec": {
   "display_name": "Python 3 (ipykernel)",
   "language": "python",
   "name": "python3"
  },
  "language_info": {
   "codemirror_mode": {
    "name": "ipython",
    "version": 3
   },
   "file_extension": ".py",
   "mimetype": "text/x-python",
   "name": "python",
   "nbconvert_exporter": "python",
   "pygments_lexer": "ipython3",
   "version": "3.12.0"
  }
 },
 "nbformat": 4,
 "nbformat_minor": 5
}

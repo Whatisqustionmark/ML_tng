{
 "cells": [
  {
   "cell_type": "code",
   "execution_count": 1,
   "id": "d7e63c40-be65-49a5-91d1-9a49bd54a81e",
   "metadata": {},
   "outputs": [],
   "source": [
    "import pandas as pd\n",
    "from sklearn.ensemble import GradientBoostingRegressor\n",
    "\n",
    "train_data = pd.read_csv('field_train.csv')\n",
    "example_data = pd.read_csv('field_example.csv')\n",
    "\n",
    "\n",
    "model = GradientBoostingRegressor(random_state=76)\n",
    "\n",
    "\n",
    "model.fit(train_data[['latitude', 'longitude']],\n",
    "    train_data['intensity'])\n",
    "\n",
    "\n",
    "example_data['intensity'] = model.predict(example_data[['latitude', 'longitude']])\n",
    "example_data.to_csv('ans.csv', index=False)"
   ]
  },
  {
   "cell_type": "code",
   "execution_count": null,
   "id": "b9379ca6-1b7c-45cc-a51b-503ae2da74bd",
   "metadata": {},
   "outputs": [],
   "source": []
  }
 ],
 "metadata": {
  "kernelspec": {
   "display_name": "Python 3 (ipykernel)",
   "language": "python",
   "name": "python3"
  },
  "language_info": {
   "codemirror_mode": {
    "name": "ipython",
    "version": 3
   },
   "file_extension": ".py",
   "mimetype": "text/x-python",
   "name": "python",
   "nbconvert_exporter": "python",
   "pygments_lexer": "ipython3",
   "version": "3.12.0"
  }
 },
 "nbformat": 4,
 "nbformat_minor": 5
}

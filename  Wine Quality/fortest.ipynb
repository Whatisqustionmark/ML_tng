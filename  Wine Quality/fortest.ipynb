{
 "cells": [
  {
   "cell_type": "code",
   "execution_count": 10,
   "id": "b3ceae82-8e55-44ce-b839-01db4fd21140",
   "metadata": {},
   "outputs": [
    {
     "name": "stdout",
     "output_type": "stream",
     "text": [
      "[3 0 2 1]\n"
     ]
    }
   ],
   "source": [
    "import numpy as np\n",
    "array=[5,11,10,2]\n",
    "indices=np.argsort(array)\n",
    "print(indices)"
   ]
  },
  {
   "cell_type": "code",
   "execution_count": 20,
   "id": "2ab62792-8a36-479b-9719-49ece904e4dc",
   "metadata": {},
   "outputs": [
    {
     "name": "stdout",
     "output_type": "stream",
     "text": [
      "<__main__.KREgressor object at 0x0000011458D89FD0>\n"
     ]
    }
   ],
   "source": [
    "class KREgressor:\n",
    "    def __init__(self, n_neighbors=5):\n",
    "        self.n_neighbors = n_neighbors\n",
    "\n",
    "\n",
    "    def fit(self,X,Y):\n",
    "        self.X_train = X\n",
    "        self.y_train = Y\n",
    "\n",
    "    #Euclide\n",
    "    def distance(self,x1,x2):\n",
    "        return np.sqrt(np.sum((x1**2-x2)**2))\n",
    "\n",
    "    def predict(self,X):\n",
    "            y_pred=[self.predict(x) for x in X]\n",
    "            return np.array(y_pred)\n",
    "    def _predict(self,x):\n",
    "        distances=[self.disctance(x,x_train) for x_train in self.X_train]\n",
    "\n",
    "        k_indices = np.argsort(distances)[:self.n_neighbors]\n",
    "        print(k_indeces)\n",
    "X_1=[1,2,3,4]\n",
    "Y_1=[11,12,13,14]\n",
    "knn_reg = KREgressor(n_neighbors=5)\n",
    "print(knn_reg)"
   ]
  },
  {
   "cell_type": "code",
   "execution_count": null,
   "id": "10d238e4-5a5e-405b-9ecc-2b5b38b09e85",
   "metadata": {},
   "outputs": [],
   "source": []
  }
 ],
 "metadata": {
  "kernelspec": {
   "display_name": "Python 3 (ipykernel)",
   "language": "python",
   "name": "python3"
  },
  "language_info": {
   "codemirror_mode": {
    "name": "ipython",
    "version": 3
   },
   "file_extension": ".py",
   "mimetype": "text/x-python",
   "name": "python",
   "nbconvert_exporter": "python",
   "pygments_lexer": "ipython3",
   "version": "3.12.0"
  }
 },
 "nbformat": 4,
 "nbformat_minor": 5
}
